{
 "cells": [
  {
   "cell_type": "code",
   "execution_count": 1,
   "id": "4d120f10",
   "metadata": {},
   "outputs": [],
   "source": [
    "import pandas as pd\n",
    "import numpy as np\n",
    "import re\n",
    "from math import sqrt, log\n",
    "from typing import Union"
   ]
  },
  {
   "cell_type": "code",
   "execution_count": 2,
   "id": "7d37bd7a",
   "metadata": {},
   "outputs": [],
   "source": [
    "class PySRModelLoader:\n",
    "    def __init__(self, model_path: str):\n",
    "        self.model_path = model_path\n",
    "        self.equations_df = pd.read_csv(model_path)\n",
    "        self.models = self._build_model_functions()\n",
    "\n",
    "    def _build_model_functions(self):\n",
    "        model_funcs = {}\n",
    "        for _, row in self.equations_df.iterrows():\n",
    "            complexity = row['Complexity']\n",
    "            eq_str = row['Equation']\n",
    "            eq_str_fixed = eq_str.replace(\"^\", \"**\")\n",
    "            required_vars = self._extract_variable_names(eq_str_fixed)\n",
    "            func = self._create_function(eq_str_fixed, required_vars)\n",
    "            model_funcs[complexity] = {\n",
    "                'func': func,\n",
    "                'equation': eq_str_fixed,\n",
    "                'required_vars': required_vars,\n",
    "                'loss': row['Loss']\n",
    "            }\n",
    "        return model_funcs\n",
    "\n",
    "    def _extract_variable_names(self, equation: str):\n",
    "        tokens = re.findall(r'\\b[a-zA-Z_][a-zA-Z0-9_]*\\b', equation)\n",
    "        known_funcs = {'sqrt', 'log'}\n",
    "        variables = sorted(set(t for t in tokens if t not in known_funcs and not t.isnumeric()))\n",
    "        return variables\n",
    "\n",
    "    def _create_function(self, equation_str, required_vars):\n",
    "        def safe_sqrt(x):\n",
    "            try:\n",
    "                return sqrt(x) if x >= 0 else 0\n",
    "            except:\n",
    "                return 0\n",
    "            \n",
    "        def safe_inv(x):\n",
    "            try:\n",
    "                return 1.0 / x\n",
    "            except:\n",
    "                return 0\n",
    "\n",
    "        def safe_log(x):\n",
    "            try:\n",
    "                return log(x) if x > 0 else 0\n",
    "            except:\n",
    "                return 0\n",
    "\n",
    "        def model_func(row):\n",
    "            try:\n",
    "                protected_functions = {\"sqrt\", \"log\", \"inv\", \"exp\", \"ceil\", \"floor\", \"round\", \"max\", \"min\", \"abs\"}\n",
    "                local_vars = {var: row.get(var, np.nan) for var in required_vars if var not in protected_functions}\n",
    "                return eval(\n",
    "                    equation_str,\n",
    "                    {\n",
    "                        \"__builtins__\": None,\n",
    "                        \"sqrt\": safe_sqrt,\n",
    "                        \"log\": safe_log,\n",
    "                        \"inv\": safe_inv,\n",
    "                        \"exp\": np.exp,\n",
    "                        \"ceil\": np.ceil,\n",
    "                        \"floor\": np.floor,\n",
    "                        \"round\": round,\n",
    "                        \"max\": max,\n",
    "                        \"min\": min,\n",
    "                        \"abs\": abs\n",
    "                    },\n",
    "                    local_vars\n",
    "                )\n",
    "            except Exception as e:\n",
    "                print(f\"[!] Eval error with expression: {equation_str} — {e}\")\n",
    "                return np.nan\n",
    "        return model_func\n",
    "    \n",
    "    def get_best_model(self):\n",
    "        return min(self.models.items(), key=lambda x: x[1]['loss'])[1]\n",
    "\n",
    "    def predict(self, features_df: \"pd.DataFrame\", complexity: int = None) -> \"pd.Series\":\n",
    "        \"\"\"\n",
    "        Predicts for a whole DataFrame of features using specified model complexity.\n",
    "        If none is passed, use the best one (lowest loss).\n",
    "        \"\"\"\n",
    "        if complexity is None:\n",
    "            model = self.get_best_model()\n",
    "        else:\n",
    "            model = self.models.get(complexity)\n",
    "            if model is None:\n",
    "                raise ValueError(f\"No model found with complexity: {complexity}\")\n",
    "\n",
    "        func = model[\"func\"]\n",
    "        return features_df.apply(lambda row: func(row.to_dict()), axis=1)"
   ]
  },
  {
   "cell_type": "code",
   "execution_count": 3,
   "id": "2120e46a",
   "metadata": {},
   "outputs": [],
   "source": [
    "def predict(self, features_df: pd.DataFrame, complexity: int = None):\n",
    "    if complexity is None:\n",
    "        model = self.get_best_model()\n",
    "    else:\n",
    "        model = self.models.get(complexity)\n",
    "        if model is None:\n",
    "            raise ValueError(f\"No model found with complexity: {complexity}\")\n",
    "\n",
    "    func = model['func']\n",
    "    # This MUST return a Series\n",
    "    return features_df.apply(lambda row: pd.to_numeric(func(row.to_dict()), errors='coerce'), axis=1)"
   ]
  },
  {
   "cell_type": "code",
   "execution_count": 4,
   "id": "ae8d3261",
   "metadata": {},
   "outputs": [],
   "source": [
    "class FeatureDatasetLoader:\n",
    "    def __init__(self, feature_csv_path: str):\n",
    "        self.df = pd.read_csv(feature_csv_path)\n",
    "\n",
    "        # Remove infs\n",
    "        self.df = self.df.replace([np.inf, -np.inf], np.nan)\n",
    "\n",
    "        # Drop only if key prediction features are missing\n",
    "        key_features = ['rolling_pts_avg_5G', 'rolling_fga_5G', 'adjusted_pts_proj_def', 'pts_to_3pm_ratio', 'shots_per_min']\n",
    "        self.df = self.df.dropna(subset=key_features)\n",
    "\n",
    "    def get_features(self):\n",
    "        return self.df"
   ]
  },
  {
   "cell_type": "code",
   "execution_count": 7,
   "id": "cd0cb4e5",
   "metadata": {},
   "outputs": [
    {
     "name": "stdout",
     "output_type": "stream",
     "text": [
      "Loaded 769 rows.\n"
     ]
    },
    {
     "data": {
      "application/vnd.microsoft.datawrangler.viewer.v0+json": {
       "columns": [
        {
         "name": "index",
         "rawType": "int64",
         "type": "integer"
        },
        {
         "name": "PLAYER_NAME",
         "rawType": "object",
         "type": "string"
        },
        {
         "name": "GAME_DATE",
         "rawType": "object",
         "type": "string"
        },
        {
         "name": "rolling_pts_avg_5G",
         "rawType": "float64",
         "type": "float"
        },
        {
         "name": "pysr_prediction",
         "rawType": "float64",
         "type": "float"
        },
        {
         "name": "PTS",
         "rawType": "int64",
         "type": "integer"
        }
       ],
       "conversionMethod": "pd.DataFrame",
       "ref": "a118624a-a703-4f80-9012-a6e19ec060c4",
       "rows": [
        [
         "0",
         "Jayson Tatum",
         "2024-11-01",
         "27.666666666666668",
         "26.784348299999998",
         "32"
        ],
        [
         "1",
         "Jayson Tatum",
         "2024-11-02",
         "26.83333333333333",
         "20.8322709",
         "29"
        ],
        [
         "2",
         "Jayson Tatum",
         "2024-11-04",
         "27.5",
         "29.760386999999998",
         "28"
        ],
        [
         "3",
         "Jayson Tatum",
         "2024-11-06",
         "26.0",
         "28.7683741",
         "32"
        ],
        [
         "4",
         "Jayson Tatum",
         "2024-11-08",
         "31.6",
         "33.7284386",
         "33"
        ],
        [
         "5",
         "Jayson Tatum",
         "2024-11-10",
         "30.8",
         "22.8162967",
         "31"
        ],
        [
         "6",
         "Jayson Tatum",
         "2024-11-12",
         "30.6",
         "16.8642193",
         "20"
        ],
        [
         "7",
         "Jayson Tatum",
         "2024-11-13",
         "28.8",
         "36.7044773",
         "36"
        ],
        [
         "8",
         "Jayson Tatum",
         "2024-11-16",
         "30.4",
         "22.8162967",
         "24"
        ],
        [
         "9",
         "Jayson Tatum",
         "2024-11-19",
         "28.8",
         "33.7284386",
         "33"
        ],
        [
         "10",
         "Jayson Tatum",
         "2024-11-22",
         "28.8",
         "19.840258",
         "16"
        ],
        [
         "11",
         "Jayson Tatum",
         "2024-11-24",
         "25.8",
         "24.8003225",
         "26"
        ],
        [
         "12",
         "Jayson Tatum",
         "2024-11-25",
         "27.0",
         "21.8242838",
         "20"
        ],
        [
         "13",
         "Jayson Tatum",
         "2024-11-29",
         "23.8",
         "34.720451499999996",
         "35"
        ],
        [
         "14",
         "Jayson Tatum",
         "2024-12-01",
         "26.0",
         "33.7284386",
         "33"
        ],
        [
         "15",
         "Jayson Tatum",
         "2024-12-02",
         "26.0",
         "20.8322709",
         "18"
        ],
        [
         "16",
         "Jayson Tatum",
         "2024-12-06",
         "26.4",
         "33.7284386",
         "34"
        ],
        [
         "17",
         "Jayson Tatum",
         "2024-12-07",
         "28.0",
         "17.8562322",
         "17"
        ],
        [
         "18",
         "Jayson Tatum",
         "2024-12-15",
         "27.4",
         "32.7364257",
         "28"
        ],
        [
         "19",
         "Jayson Tatum",
         "2024-12-19",
         "26.0",
         "27.7763612",
         "31"
        ],
        [
         "20",
         "Jayson Tatum",
         "2024-12-21",
         "25.6",
         "42.6565547",
         "43"
        ],
        [
         "21",
         "Jayson Tatum",
         "2024-12-25",
         "30.6",
         "30.7523999",
         "32"
        ],
        [
         "22",
         "Jayson Tatum",
         "2024-12-27",
         "30.2",
         "20.8322709",
         "22"
        ],
        [
         "23",
         "Jayson Tatum",
         "2024-12-29",
         "31.2",
         "23.8083096",
         "22"
        ],
        [
         "24",
         "Jayson Tatum",
         "2024-12-31",
         "30.0",
         "18.8482451",
         "23"
        ],
        [
         "25",
         "Jayson Tatum",
         "2025-01-02",
         "28.4",
         "37.6964902",
         "33"
        ],
        [
         "26",
         "Jayson Tatum",
         "2025-01-03",
         "26.4",
         "20.8322709",
         "20"
        ],
        [
         "27",
         "Jayson Tatum",
         "2025-01-05",
         "24.0",
         "21.8242838",
         "26"
        ],
        [
         "28",
         "Jayson Tatum",
         "2025-01-07",
         "24.8",
         "31.7444128",
         "29"
        ],
        [
         "29",
         "Jayson Tatum",
         "2025-01-10",
         "26.2",
         "15.8722064",
         "15"
        ],
        [
         "30",
         "Jayson Tatum",
         "2025-01-12",
         "24.6",
         "39.680516",
         "38"
        ],
        [
         "31",
         "Jayson Tatum",
         "2025-01-15",
         "25.6",
         "15.8722064",
         "16"
        ],
        [
         "32",
         "Jayson Tatum",
         "2025-01-17",
         "24.8",
         "33.7284386",
         "30"
        ],
        [
         "33",
         "Jayson Tatum",
         "2025-01-18",
         "25.6",
         "20.8322709",
         "23"
        ],
        [
         "34",
         "Jayson Tatum",
         "2025-01-20",
         "24.4",
         "25.7923354",
         "22"
        ],
        [
         "35",
         "Jayson Tatum",
         "2025-01-22",
         "25.8",
         "25.7923354",
         "24"
        ],
        [
         "36",
         "Jayson Tatum",
         "2025-01-23",
         "23.0",
         "14.880193499999999",
         "16"
        ],
        [
         "37",
         "Jayson Tatum",
         "2025-01-25",
         "23.0",
         "22.8162967",
         "24"
        ],
        [
         "38",
         "Jayson Tatum",
         "2025-01-27",
         "21.8",
         "15.8722064",
         "19"
        ],
        [
         "39",
         "Jayson Tatum",
         "2025-01-29",
         "21.0",
         "15.8722064",
         "16"
        ],
        [
         "40",
         "Jayson Tatum",
         "2025-01-31",
         "19.8",
         "28.7683741",
         "27"
        ],
        [
         "41",
         "Jayson Tatum",
         "2025-02-02",
         "20.4",
         "36.7044773",
         "35"
        ],
        [
         "42",
         "Jayson Tatum",
         "2025-02-04",
         "24.2",
         "20.8322709",
         "22"
        ],
        [
         "43",
         "Jayson Tatum",
         "2025-02-06",
         "23.8",
         "15.8722064",
         "17"
        ],
        [
         "44",
         "Jayson Tatum",
         "2025-02-08",
         "23.4",
         "36.7044773",
         "40"
        ],
        [
         "45",
         "Jayson Tatum",
         "2025-02-10",
         "28.2",
         "37.6964902",
         "33"
        ],
        [
         "46",
         "Jayson Tatum",
         "2025-02-12",
         "29.4",
         "34.720451499999996",
         "32"
        ],
        [
         "47",
         "Jayson Tatum",
         "2025-02-20",
         "28.8",
         "15.8722064",
         "15"
        ],
        [
         "48",
         "Jayson Tatum",
         "2025-02-23",
         "27.4",
         "24.8003225",
         "25"
        ],
        [
         "49",
         "Jayson Tatum",
         "2025-02-25",
         "29.0",
         "21.8242838",
         "19"
        ]
       ],
       "shape": {
        "columns": 5,
        "rows": 100
       }
      },
      "text/html": [
       "<div>\n",
       "<style scoped>\n",
       "    .dataframe tbody tr th:only-of-type {\n",
       "        vertical-align: middle;\n",
       "    }\n",
       "\n",
       "    .dataframe tbody tr th {\n",
       "        vertical-align: top;\n",
       "    }\n",
       "\n",
       "    .dataframe thead th {\n",
       "        text-align: right;\n",
       "    }\n",
       "</style>\n",
       "<table border=\"1\" class=\"dataframe\">\n",
       "  <thead>\n",
       "    <tr style=\"text-align: right;\">\n",
       "      <th></th>\n",
       "      <th>PLAYER_NAME</th>\n",
       "      <th>GAME_DATE</th>\n",
       "      <th>rolling_pts_avg_5G</th>\n",
       "      <th>pysr_prediction</th>\n",
       "      <th>PTS</th>\n",
       "    </tr>\n",
       "  </thead>\n",
       "  <tbody>\n",
       "    <tr>\n",
       "      <th>0</th>\n",
       "      <td>Jayson Tatum</td>\n",
       "      <td>2024-11-01</td>\n",
       "      <td>27.666667</td>\n",
       "      <td>26.784348</td>\n",
       "      <td>32</td>\n",
       "    </tr>\n",
       "    <tr>\n",
       "      <th>1</th>\n",
       "      <td>Jayson Tatum</td>\n",
       "      <td>2024-11-02</td>\n",
       "      <td>26.833333</td>\n",
       "      <td>20.832271</td>\n",
       "      <td>29</td>\n",
       "    </tr>\n",
       "    <tr>\n",
       "      <th>2</th>\n",
       "      <td>Jayson Tatum</td>\n",
       "      <td>2024-11-04</td>\n",
       "      <td>27.500000</td>\n",
       "      <td>29.760387</td>\n",
       "      <td>28</td>\n",
       "    </tr>\n",
       "    <tr>\n",
       "      <th>3</th>\n",
       "      <td>Jayson Tatum</td>\n",
       "      <td>2024-11-06</td>\n",
       "      <td>26.000000</td>\n",
       "      <td>28.768374</td>\n",
       "      <td>32</td>\n",
       "    </tr>\n",
       "    <tr>\n",
       "      <th>4</th>\n",
       "      <td>Jayson Tatum</td>\n",
       "      <td>2024-11-08</td>\n",
       "      <td>31.600000</td>\n",
       "      <td>33.728439</td>\n",
       "      <td>33</td>\n",
       "    </tr>\n",
       "    <tr>\n",
       "      <th>...</th>\n",
       "      <td>...</td>\n",
       "      <td>...</td>\n",
       "      <td>...</td>\n",
       "      <td>...</td>\n",
       "      <td>...</td>\n",
       "    </tr>\n",
       "    <tr>\n",
       "      <th>95</th>\n",
       "      <td>Jaylen Brown</td>\n",
       "      <td>2025-01-17</td>\n",
       "      <td>17.800000</td>\n",
       "      <td>13.888181</td>\n",
       "      <td>20</td>\n",
       "    </tr>\n",
       "    <tr>\n",
       "      <th>96</th>\n",
       "      <td>Jaylen Brown</td>\n",
       "      <td>2025-01-18</td>\n",
       "      <td>17.600000</td>\n",
       "      <td>22.816297</td>\n",
       "      <td>24</td>\n",
       "    </tr>\n",
       "    <tr>\n",
       "      <th>97</th>\n",
       "      <td>Jaylen Brown</td>\n",
       "      <td>2025-01-20</td>\n",
       "      <td>19.600000</td>\n",
       "      <td>21.824284</td>\n",
       "      <td>17</td>\n",
       "    </tr>\n",
       "    <tr>\n",
       "      <th>98</th>\n",
       "      <td>Jaylen Brown</td>\n",
       "      <td>2025-01-22</td>\n",
       "      <td>17.400000</td>\n",
       "      <td>21.824284</td>\n",
       "      <td>25</td>\n",
       "    </tr>\n",
       "    <tr>\n",
       "      <th>99</th>\n",
       "      <td>Jaylen Brown</td>\n",
       "      <td>2025-01-23</td>\n",
       "      <td>19.200000</td>\n",
       "      <td>18.848245</td>\n",
       "      <td>17</td>\n",
       "    </tr>\n",
       "  </tbody>\n",
       "</table>\n",
       "<p>100 rows × 5 columns</p>\n",
       "</div>"
      ],
      "text/plain": [
       "     PLAYER_NAME   GAME_DATE  rolling_pts_avg_5G  pysr_prediction  PTS\n",
       "0   Jayson Tatum  2024-11-01           27.666667        26.784348   32\n",
       "1   Jayson Tatum  2024-11-02           26.833333        20.832271   29\n",
       "2   Jayson Tatum  2024-11-04           27.500000        29.760387   28\n",
       "3   Jayson Tatum  2024-11-06           26.000000        28.768374   32\n",
       "4   Jayson Tatum  2024-11-08           31.600000        33.728439   33\n",
       "..           ...         ...                 ...              ...  ...\n",
       "95  Jaylen Brown  2025-01-17           17.800000        13.888181   20\n",
       "96  Jaylen Brown  2025-01-18           17.600000        22.816297   24\n",
       "97  Jaylen Brown  2025-01-20           19.600000        21.824284   17\n",
       "98  Jaylen Brown  2025-01-22           17.400000        21.824284   25\n",
       "99  Jaylen Brown  2025-01-23           19.200000        18.848245   17\n",
       "\n",
       "[100 rows x 5 columns]"
      ]
     },
     "metadata": {},
     "output_type": "display_data"
    },
    {
     "name": "stdout",
     "output_type": "stream",
     "text": [
      "[✓] Predictions saved to predictions_with_pysr.csv\n"
     ]
    }
   ],
   "source": [
    "if __name__ == \"__main__\":\n",
    "    # Load feature data\n",
    "    feature_loader = FeatureDatasetLoader(\"nba_player_features_rolling5G.csv\")\n",
    "    features_df = feature_loader.get_features()\n",
    "    #print(features_df.columns.tolist())\n",
    "    print(f\"Loaded {len(features_df)} rows.\")\n",
    "\n",
    "    if features_df.empty:\n",
    "        print(\"[!] Feature DataFrame is empty. Cannot proceed with prediction.\")\n",
    "    else:\n",
    "        # Load PySR equations\n",
    "        model_loader = PySRModelLoader(\"hall_of_fame.csv\")\n",
    "\n",
    "        # 🔍 SANITY CHECK ON FIRST ROW\n",
    "        best_model = model_loader.get_best_model()\n",
    "        test_row = features_df.iloc[0].to_dict()\n",
    "\n",
    "        #print(\"\\n[Best Model]\")\n",
    "        #print(\"Equation:\", best_model[\"equation\"])\n",
    "        #print(\"Required Vars:\", best_model[\"required_vars\"])\n",
    "        #print(\"Row Sample:\")\n",
    "        #print({k: test_row.get(k, 'Missing') for k in best_model[\"required_vars\"]})\n",
    "\n",
    "        try:\n",
    "            pred = best_model[\"func\"](test_row)\n",
    "            #print(\"[✓] First prediction result:\", pred)\n",
    "        except Exception as e:\n",
    "            print(\"[!] Error evaluating first prediction:\", e)\n",
    "\n",
    "        # Predict with best model\n",
    "        predictions = model_loader.predict(features_df)\n",
    "        if isinstance(predictions, pd.DataFrame):\n",
    "            print(\"[!] Warning: Predict function returned a DataFrame instead of Series\")\n",
    "            predictions = predictions.iloc[:, 0]  # Use first column if so\n",
    "\n",
    "        features_df[\"pysr_prediction\"] = predictions\n",
    "\n",
    "        #print(features_df[['PLAYER_NAME', 'GAME_DATE', 'rolling_pts_avg_5G', 'pysr_prediction', 'PTS']].head(100))\n",
    "        features_df.to_csv(\"predictions_with_pysr.csv\", index=False)\n",
    "        display(features_df[['PLAYER_NAME', 'GAME_DATE', 'rolling_pts_avg_5G', 'pysr_prediction', 'PTS']].head(100))\n",
    "        print(\"[✓] Predictions saved to predictions_with_pysr.csv\")"
   ]
  }
 ],
 "metadata": {
  "kernelspec": {
   "display_name": "Python 3",
   "language": "python",
   "name": "python3"
  },
  "language_info": {
   "codemirror_mode": {
    "name": "ipython",
    "version": 3
   },
   "file_extension": ".py",
   "mimetype": "text/x-python",
   "name": "python",
   "nbconvert_exporter": "python",
   "pygments_lexer": "ipython3",
   "version": "3.12.10"
  }
 },
 "nbformat": 4,
 "nbformat_minor": 5
}
